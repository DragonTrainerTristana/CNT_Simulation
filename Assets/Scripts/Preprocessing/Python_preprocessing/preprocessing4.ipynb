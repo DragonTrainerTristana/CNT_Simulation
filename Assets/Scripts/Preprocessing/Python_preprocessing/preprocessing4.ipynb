{
 "cells": [
  {
   "cell_type": "code",
   "execution_count": 1,
   "metadata": {},
   "outputs": [],
   "source": [
    "import numpy as np\n",
    "import pandas as pd"
   ]
  },
  {
   "cell_type": "code",
   "execution_count": 2,
   "metadata": {},
   "outputs": [],
   "source": [
    "df = pd.read_csv(\"CollisionCheck_preprocessed4.csv\",header=None)\n",
    "df2 = pd.read_csv(\"CollisionDistance_preprocessed3.csv\",header=None)"
   ]
  },
  {
   "cell_type": "code",
   "execution_count": 3,
   "metadata": {},
   "outputs": [],
   "source": [
    "rows,cols = df.shape"
   ]
  },
  {
   "cell_type": "code",
   "execution_count": 4,
   "metadata": {},
   "outputs": [],
   "source": [
    "count = 0\n",
    "\n",
    "for i in range(rows):\n",
    "    count = 0\n",
    "    for j in range(cols):\n",
    "        if df.iloc[i,j] == \"-1:0\": # start         \n",
    "            if j == 0:\n",
    "                count+=1\n",
    "            \n",
    "            if df.iloc[i,0] != '-1:0':          \n",
    "                temp = df.iloc[i,0]\n",
    "                temp2 = df2.iloc[i,0]\n",
    "                df.iloc[i,0] = df.iloc[i,j]\n",
    "                df2.iloc[i,0] = df2.iloc[i,j]\n",
    "                df.iloc[i,j] = temp\n",
    "                df2.iloc[i,j] = temp\n",
    "                count+=1\n",
    "                \n",
    "            elif j > 0:\n",
    "                if df.iloc[i,j-1] != \"-1:0\":\n",
    "                    temp = df.iloc[i,count]\n",
    "                    temp2 = df2.iloc[i,count]\n",
    "                    df.iloc[i,count] = df.iloc[i,j]\n",
    "                    df2.iloc[i,count] = df2.iloc[i,j]\n",
    "                    df.iloc[i,j] = temp\n",
    "                    df2.iloc[i,j] = temp2\n",
    "                    count+=1   \n",
    "                    \n",
    "        # if df.iloc[i,j] == \"-1:1\": # final\n",
    "        #     if df.iloc[i,j + 1] == \"None\":\n",
    "        #         pass\n",
    "        #     if df.iloc[i,j + 1] != \"None\" and df.iloc[i,j+1] != \"-1:1\":\n",
    "        #         temp = df.iloc[i,j]\n",
    "        #         temp2 = df2.iloc[i,j]\n",
    "        #         df.iloc[i,j] = df.iloc[i,j+1]\n",
    "        #         df2.iloc[i,j] = df2.iloc[i,j+1]\n",
    "        #         df.iloc[i,j+1] = temp\n",
    "        #         df2.iloc[i,j+1] = temp2\n",
    "        #     if df.iloc[i,j + 1] != \"None\" and df.iloc[i,j+1] == \"-1:1\":\n",
    "        #         if df.iloc[i,j+2] == \"None\":\n",
    "        #             pass\n",
    "        #         if df.iloc[i,j+2] != \"None\":\n",
    "        #             df.iloc[i,j+2],df.iloc[i,j+1] = df.iloc[i,j+1],df.iloc[i,j+2]\n",
    "        #             df.iloc[i,j+1],df.iloc[i,j] = df.iloc[i,j],df.iloc[i,j+1]\n",
    "                    "
   ]
  },
  {
   "cell_type": "code",
   "execution_count": 5,
   "metadata": {},
   "outputs": [],
   "source": [
    "df.to_csv(\"CollisionCheck_preprocessed5.csv\", header=None, index=False, na_rep = \"None\")\n",
    "df2.to_csv(\"CollisionDistance_preprocessed5.csv\", header=None, index=False, na_rep = \"None\")"
   ]
  },
  {
   "cell_type": "code",
   "execution_count": null,
   "metadata": {},
   "outputs": [],
   "source": []
  }
 ],
 "metadata": {
  "kernelspec": {
   "display_name": "Python 3",
   "language": "python",
   "name": "python3"
  },
  "language_info": {
   "codemirror_mode": {
    "name": "ipython",
    "version": 3
   },
   "file_extension": ".py",
   "mimetype": "text/x-python",
   "name": "python",
   "nbconvert_exporter": "python",
   "pygments_lexer": "ipython3",
   "version": "3.11.4"
  },
  "orig_nbformat": 4
 },
 "nbformat": 4,
 "nbformat_minor": 2
}
