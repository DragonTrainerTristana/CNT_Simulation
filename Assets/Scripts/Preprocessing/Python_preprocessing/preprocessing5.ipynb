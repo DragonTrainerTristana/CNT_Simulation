{
 "cells": [
  {
   "cell_type": "code",
   "execution_count": 81,
   "metadata": {},
   "outputs": [],
   "source": [
    "import numpy as np\n",
    "import pandas as pd"
   ]
  },
  {
   "cell_type": "code",
   "execution_count": 82,
   "metadata": {},
   "outputs": [],
   "source": [
    "df = pd.read_csv(\"CollisionCheck_preprocessed5.csv\",header=None)\n",
    "df2 = pd.read_csv(\"CollisionDistance_preprocessed5.csv\",header=None)"
   ]
  },
  {
   "cell_type": "code",
   "execution_count": 83,
   "metadata": {},
   "outputs": [],
   "source": [
    "rows,cols = df.shape"
   ]
  },
  {
   "cell_type": "code",
   "execution_count": 84,
   "metadata": {},
   "outputs": [
    {
     "data": {
      "text/plain": [
       "'10172'"
      ]
     },
     "execution_count": 84,
     "metadata": {},
     "output_type": "execute_result"
    }
   ],
   "source": [
    "df.iloc[0,0]"
   ]
  },
  {
   "cell_type": "code",
   "execution_count": 85,
   "metadata": {},
   "outputs": [],
   "source": [
    "for i in range(rows):\n",
    "    if df.iloc[i,0] != \"-1:-1\" and df.iloc[i,0] != \"-1:0\":\n",
    "        # for j in range(cols - 1):\n",
    "        #     df.iloc[i,j] = df.iloc[i,j+1]\n",
    "        \n",
    "        df.iloc[i] = df.iloc[i].shift(1)\n",
    "        df2.iloc[i] = df2.iloc[i].shift(1)\n",
    "        df.iloc[i,0] = \"-1:-1\"\n",
    "        \n",
    "    for j in range(cols):\n",
    "        if pd.isna(df.iloc[i,j]) : break\n",
    "        if pd.isna(df.iloc[i,j + 1]) and df.iloc[i,j] != \"-1:1\" and df.iloc[i,j] != \"-1:-1\":\n",
    "            df.iloc[i,j+1] = \"-1:-1\"\n",
    "            break\n",
    "        \n",
    "    for j in range(cols):\n",
    "        if df.iloc[i,j] == \"-1:1\":\n",
    "            if df.iloc[i,j+1] == \"-1:-1\":\n",
    "                df.iloc[i,j+1] = \"nan\"\n",
    "        \n",
    "        # temp = df.iloc[i,0]\n",
    "        # temp2 = df2.iloc[i,0]\n",
    "        # df.iloc[i,0] = \"-1:-1\"\n",
    "        # df2.iloc[i,0] = \"None\"\n",
    "        # for j in range(cols):\n",
    "        #     if pd.isna(df.iloc[i,j+1]): \n",
    "        #         break\n",
    "        #     temp3 = df.iloc[i,j+1]\n",
    "        #     temp4 = df2.iloc[i,j+1]\n",
    "        #     df.iloc[i,j+1] = temp\n",
    "        #     df2.iloc[i,j+1] = temp2\n",
    "        #     temp = df.iloc[i,j+2]\n",
    "        #     temp2 = df2.iloc[i,j+2]"
   ]
  },
  {
   "cell_type": "code",
   "execution_count": 86,
   "metadata": {},
   "outputs": [],
   "source": [
    "df.to_csv(\"CollisionCheck_preprocessed6.csv\", header=None, index=False, na_rep = \"None\")\n",
    "df2.to_csv(\"CollisionDistance_preprocessed6.csv\", header=None, index=False, na_rep = \"None\")\n",
    "            "
   ]
  },
  {
   "cell_type": "code",
   "execution_count": 87,
   "metadata": {},
   "outputs": [],
   "source": [
    "df = pd.read_csv(\"CollisionCheck_preprocessed6.csv\",header=None)\n",
    "df2 = pd.read_csv(\"CollisionDistance_preprocessed6.csv\",header=None)"
   ]
  },
  {
   "cell_type": "code",
   "execution_count": 88,
   "metadata": {},
   "outputs": [
    {
     "data": {
      "text/html": [
       "<div>\n",
       "<style scoped>\n",
       "    .dataframe tbody tr th:only-of-type {\n",
       "        vertical-align: middle;\n",
       "    }\n",
       "\n",
       "    .dataframe tbody tr th {\n",
       "        vertical-align: top;\n",
       "    }\n",
       "\n",
       "    .dataframe thead th {\n",
       "        text-align: right;\n",
       "    }\n",
       "</style>\n",
       "<table border=\"1\" class=\"dataframe\">\n",
       "  <thead>\n",
       "    <tr style=\"text-align: right;\">\n",
       "      <th></th>\n",
       "      <th>0</th>\n",
       "      <th>1</th>\n",
       "      <th>2</th>\n",
       "      <th>3</th>\n",
       "      <th>4</th>\n",
       "      <th>5</th>\n",
       "      <th>6</th>\n",
       "      <th>7</th>\n",
       "      <th>8</th>\n",
       "      <th>9</th>\n",
       "      <th>10</th>\n",
       "      <th>11</th>\n",
       "      <th>12</th>\n",
       "      <th>13</th>\n",
       "    </tr>\n",
       "  </thead>\n",
       "  <tbody>\n",
       "    <tr>\n",
       "      <th>0</th>\n",
       "      <td>-1:-1</td>\n",
       "      <td>10172</td>\n",
       "      <td>-1:-1</td>\n",
       "      <td>NaN</td>\n",
       "      <td>NaN</td>\n",
       "      <td>NaN</td>\n",
       "      <td>NaN</td>\n",
       "      <td>NaN</td>\n",
       "      <td>NaN</td>\n",
       "      <td>NaN</td>\n",
       "      <td>NaN</td>\n",
       "      <td>NaN</td>\n",
       "      <td>NaN</td>\n",
       "      <td>NaN</td>\n",
       "    </tr>\n",
       "    <tr>\n",
       "      <th>1</th>\n",
       "      <td>-1:-1</td>\n",
       "      <td>217</td>\n",
       "      <td>-1:1</td>\n",
       "      <td>NaN</td>\n",
       "      <td>NaN</td>\n",
       "      <td>NaN</td>\n",
       "      <td>NaN</td>\n",
       "      <td>NaN</td>\n",
       "      <td>NaN</td>\n",
       "      <td>NaN</td>\n",
       "      <td>NaN</td>\n",
       "      <td>NaN</td>\n",
       "      <td>NaN</td>\n",
       "      <td>NaN</td>\n",
       "    </tr>\n",
       "    <tr>\n",
       "      <th>2</th>\n",
       "      <td>-1:-1</td>\n",
       "      <td>2511</td>\n",
       "      <td>-1:-1</td>\n",
       "      <td>NaN</td>\n",
       "      <td>NaN</td>\n",
       "      <td>NaN</td>\n",
       "      <td>NaN</td>\n",
       "      <td>NaN</td>\n",
       "      <td>NaN</td>\n",
       "      <td>NaN</td>\n",
       "      <td>NaN</td>\n",
       "      <td>NaN</td>\n",
       "      <td>NaN</td>\n",
       "      <td>NaN</td>\n",
       "    </tr>\n",
       "    <tr>\n",
       "      <th>3</th>\n",
       "      <td>-1:-1</td>\n",
       "      <td>1212</td>\n",
       "      <td>-1:-1</td>\n",
       "      <td>NaN</td>\n",
       "      <td>NaN</td>\n",
       "      <td>NaN</td>\n",
       "      <td>NaN</td>\n",
       "      <td>NaN</td>\n",
       "      <td>NaN</td>\n",
       "      <td>NaN</td>\n",
       "      <td>NaN</td>\n",
       "      <td>NaN</td>\n",
       "      <td>NaN</td>\n",
       "      <td>NaN</td>\n",
       "    </tr>\n",
       "    <tr>\n",
       "      <th>4</th>\n",
       "      <td>-1:-1</td>\n",
       "      <td>302</td>\n",
       "      <td>1611</td>\n",
       "      <td>5027</td>\n",
       "      <td>-1:-1</td>\n",
       "      <td>NaN</td>\n",
       "      <td>NaN</td>\n",
       "      <td>NaN</td>\n",
       "      <td>NaN</td>\n",
       "      <td>NaN</td>\n",
       "      <td>NaN</td>\n",
       "      <td>NaN</td>\n",
       "      <td>NaN</td>\n",
       "      <td>NaN</td>\n",
       "    </tr>\n",
       "  </tbody>\n",
       "</table>\n",
       "</div>"
      ],
      "text/plain": [
       "      0      1      2     3      4    5    6    7    8    9    10   11  12  \\\n",
       "0  -1:-1  10172  -1:-1   NaN    NaN  NaN  NaN  NaN  NaN  NaN  NaN  NaN NaN   \n",
       "1  -1:-1    217   -1:1   NaN    NaN  NaN  NaN  NaN  NaN  NaN  NaN  NaN NaN   \n",
       "2  -1:-1   2511  -1:-1   NaN    NaN  NaN  NaN  NaN  NaN  NaN  NaN  NaN NaN   \n",
       "3  -1:-1   1212  -1:-1   NaN    NaN  NaN  NaN  NaN  NaN  NaN  NaN  NaN NaN   \n",
       "4  -1:-1    302   1611  5027  -1:-1  NaN  NaN  NaN  NaN  NaN  NaN  NaN NaN   \n",
       "\n",
       "    13  \n",
       "0  NaN  \n",
       "1  NaN  \n",
       "2  NaN  \n",
       "3  NaN  \n",
       "4  NaN  "
      ]
     },
     "execution_count": 88,
     "metadata": {},
     "output_type": "execute_result"
    }
   ],
   "source": [
    "df.head(5)"
   ]
  },
  {
   "cell_type": "code",
   "execution_count": 89,
   "metadata": {},
   "outputs": [],
   "source": [
    "rows, cols = df.shape"
   ]
  },
  {
   "cell_type": "code",
   "execution_count": 90,
   "metadata": {},
   "outputs": [],
   "source": [
    "# #오름차순 또는 내림차순으로 거리계산\n",
    "\n",
    "# for i in range(rows):\n",
    "#     ascending = False\n",
    "#     decending = False   \n",
    "#     for j in range(cols):\n",
    "#         if df.iloc[i,j] == \"-1:0\" and df.iloc[i,j +1] != \"-1:-1\":\n",
    "#             if df2.iloc[i,j] > df2.iloc[i,j+1]: decending = True\n",
    "#             if df2.iloc[i,j] < df2.iloc[i,j+1]: ascending = True\n",
    "#         if df.iloc[i,j] == \"-1:1\" and ~(pd.isna(df.iloc[i,j+1])): \n",
    "#             df.iloc[i,j] = \"None\"\n",
    "#             df2.iloc[i,j] = \"None\"\n",
    "#         if df.iloc[i,j] == \"-1:1\" and pd.isna(df.iloc[i,j+1]):\n",
    "#             if df2.iloc[i,j] > df2.iloc[i,j-1]: ascending = True\n",
    "#             if df2.iloc[i,j] < df2.iloc[i,j-1]: decending = True\n",
    "                \n",
    "                \n",
    "            \n"
   ]
  }
 ],
 "metadata": {
  "kernelspec": {
   "display_name": "Python 3",
   "language": "python",
   "name": "python3"
  },
  "language_info": {
   "codemirror_mode": {
    "name": "ipython",
    "version": 3
   },
   "file_extension": ".py",
   "mimetype": "text/x-python",
   "name": "python",
   "nbconvert_exporter": "python",
   "pygments_lexer": "ipython3",
   "version": "3.11.4"
  },
  "orig_nbformat": 4
 },
 "nbformat": 4,
 "nbformat_minor": 2
}
